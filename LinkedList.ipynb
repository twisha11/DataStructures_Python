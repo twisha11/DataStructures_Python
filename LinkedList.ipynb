{
 "cells": [
  {
   "cell_type": "markdown",
   "id": "2127ce3f",
   "metadata": {},
   "source": [
    "### Create Node"
   ]
  },
  {
   "cell_type": "code",
   "execution_count": 16,
   "id": "924609b4",
   "metadata": {},
   "outputs": [
    {
     "name": "stdout",
     "output_type": "stream",
     "text": [
      "3\n",
      "<__main__.Node object at 0x000002BCC3CFE790>\n"
     ]
    }
   ],
   "source": [
    "class Node:\n",
    "    def __init__(self,data,next=None):\n",
    "        self.data = data\n",
    "        self.next = next\n",
    "        \n",
    "n1=Node(3);\n",
    "print(n1.data)\n",
    "print(n1) #memory Location"
   ]
  },
  {
   "cell_type": "markdown",
   "id": "4dcb54ca",
   "metadata": {},
   "source": [
    "### Link Between Node"
   ]
  },
  {
   "cell_type": "code",
   "execution_count": 17,
   "id": "c82a2af1",
   "metadata": {},
   "outputs": [
    {
     "name": "stdout",
     "output_type": "stream",
     "text": [
      "3 5 6 4 "
     ]
    }
   ],
   "source": [
    "class Node:\n",
    "    def __init__(self,data,next=None):\n",
    "        self.data = data\n",
    "        self.next = next\n",
    "        \n",
    "class sll:\n",
    "    def __init__(self):\n",
    "        self.head = None; #n1\n",
    "        \n",
    "    def travel(self):\n",
    "        if self.head is None:\n",
    "            print('LinkedList is empty')\n",
    "        else:\n",
    "            a=self.head\n",
    "            while a is not None:\n",
    "                print(a.data,end=\" \") # 3\n",
    "                a=a.next #(n1.next = n2) = a\n",
    "        \n",
    "n1=Node(3); #Creating a Node\n",
    "sll=sll() #calling the class\n",
    "sll.head=n1 #Link 'head' to n1(memrory Location)\n",
    "\n",
    "n2 = Node(5);\n",
    "n1.next = n2  #link the n1 to n2\n",
    "\n",
    "n3 = Node(6)\n",
    "n2.next= n3   #link the n2 to n3\n",
    "\n",
    "n4 = Node(4)\n",
    "n3.next = n4\n",
    "\n",
    "sll.travel()"
   ]
  },
  {
   "cell_type": "code",
   "execution_count": 18,
   "id": "fd7a6704",
   "metadata": {},
   "outputs": [],
   "source": [
    "class Node:\n",
    "    def __init__(self,data,next=None):\n",
    "        self.data = data\n",
    "        self.next = next\n"
   ]
  },
  {
   "cell_type": "markdown",
   "id": "bfab1d62",
   "metadata": {},
   "source": [
    "### Insert Element"
   ]
  },
  {
   "cell_type": "code",
   "execution_count": 19,
   "id": "fc50c1e2",
   "metadata": {},
   "outputs": [
    {
     "name": "stdout",
     "output_type": "stream",
     "text": [
      "40 10 20 30 "
     ]
    }
   ],
   "source": [
    "class SinglyLinkedList:\n",
    "    def __init__ (self):\n",
    "        self.head = None\n",
    "    def travelLinkedList(self):\n",
    "        if self.head is None:\n",
    "            print('LinkedList Not created Yet')\n",
    "        else:\n",
    "            a=self.head\n",
    "            while a is not None:\n",
    "                print(a.data,end=\" \")\n",
    "                a=a.next\n",
    "    def addNodeToFront(self,data):\n",
    "        new=Node(data)\n",
    "        new.next=self.head\n",
    "        self.head=new\n",
    "        \n",
    "    def addNodeAtEnd(self,data):\n",
    "        new=Node(data)\n",
    "        a=self.head\n",
    "        while a.next is not None:\n",
    "            a=a.next\n",
    "        a.next=new\n",
    "        \n",
    "    def addBtnNode(self,data,position):\n",
    "        new=Node(data)\n",
    "        a=self.head\n",
    "        for i in range(1,position-1):\n",
    "            a=a.next\n",
    "        new.next=a.next\n",
    "        a.next=new\n",
    "        \n",
    "n1=Node(10)\n",
    "      \n",
    "sll=SinglyLinkedList()\n",
    "sll.head = n1\n",
    "\n",
    "n2 = Node(20)\n",
    "n1.next=n2\n",
    "\n",
    "n3=sll.addNodeToFront(40)\n",
    "\n",
    "n4 = sll.addNodeAtEnd(30)\n",
    "sll.travelLinkedList()"
   ]
  },
  {
   "cell_type": "code",
   "execution_count": 27,
   "id": "98303adf",
   "metadata": {},
   "outputs": [
    {
     "name": "stdout",
     "output_type": "stream",
     "text": [
      "3 9 "
     ]
    }
   ],
   "source": [
    "\n",
    "class sll:\n",
    "    def __init__(self):\n",
    "        self.head = None; #n1\n",
    "        \n",
    "    def travel(self):\n",
    "        if self.head is None:\n",
    "            print('LinkedList is empty')\n",
    "        else:\n",
    "            a=self.head\n",
    "            while a is not None:\n",
    "                print(a.data,end=\" \") # 3\n",
    "                a=a.next #(n1.next = n2) = a\n",
    "                \n",
    "    def addBtnNode(self,data,position):\n",
    "        new=Node(data)\n",
    "        a=self.head\n",
    "        for i in range(1,position-1):\n",
    "            a=a.next   \n",
    "        new.next=a.next\n",
    "        a.next=new\n",
    "        \n",
    "    def addend(self,data):\n",
    "        new=Node(data)\n",
    "        a=self.head\n",
    "        while a.next is not None:\n",
    "            a=a.next\n",
    "        a.next=new\n",
    "        \n",
    "        \n",
    "n1=Node(3); #Creating a Node\n",
    "sll=sll() #calling the class\n",
    "sll.head=n1 #Link 'head' to n1(memrory Location)\n",
    "n2 = Node(5);\n",
    "n2.next=n1\n",
    "\n",
    "n3 = Node(6)\n",
    "n2.next= n3   #link the n2 to n3\n",
    "\n",
    "n4 = Node(4)\n",
    "n3.next = n4\n",
    "\n",
    "\n",
    "\n",
    "n6 = sll.addend(9)\n",
    "n4.next = n6 \n",
    "sll.travel()\n"
   ]
  },
  {
   "cell_type": "markdown",
   "id": "cc5e8e92",
   "metadata": {},
   "source": [
    "### Dobuly linked list"
   ]
  },
  {
   "cell_type": "code",
   "execution_count": 64,
   "id": "0d306119",
   "metadata": {},
   "outputs": [
    {
     "name": "stdout",
     "output_type": "stream",
     "text": [
      "1 4 5 8 \n",
      "8 5 4 1 \n",
      "10 1 4 5 8 \n",
      "10 1 4 5 8 11 \n",
      "10 1 60 4 5 8 11 \n",
      "1 60 4 5 8 11 \n",
      "1 60 4 5 8 "
     ]
    }
   ],
   "source": [
    "class Node:\n",
    "    def __init__(self,data):\n",
    "        self.data = data\n",
    "        self.next = None\n",
    "        self.prev = None\n",
    "\n",
    "        \n",
    "class Dll:\n",
    "    def __init__(self):\n",
    "        self.head=None\n",
    "        \n",
    "    def travel(self):\n",
    "        a=self.head\n",
    "        while a is not None:\n",
    "            print(a.data,end=\" \")\n",
    "            a=a.next\n",
    "            \n",
    "    def re_travel(self):\n",
    "        print()\n",
    "        a=self.head\n",
    "        while a.next is not None:\n",
    "            a=a.next\n",
    "            \n",
    "        while a is not None:\n",
    "            print(a.data,end=' ')\n",
    "            a=a.prev\n",
    "            \n",
    "    def insert_beg(self,data):\n",
    "        print()\n",
    "        new=Node(data)\n",
    "        a=self.head\n",
    "        new.next=a\n",
    "        self.head=new\n",
    "        \n",
    "    def insert_end(self,data):\n",
    "        print()\n",
    "        new=Node(data)\n",
    "        a=self.head\n",
    "        while a.next is not None:\n",
    "            a=a.next\n",
    "        new.prev=a\n",
    "        a.next=new\n",
    "        \n",
    "    def insert_pos(self,data,position):\n",
    "        print()\n",
    "        new=Node(data)\n",
    "        a=self.head\n",
    "        for i in range(1,position-1):\n",
    "            a=a.next\n",
    "        new.next=a.next\n",
    "        new.prev=a\n",
    "        a.next=new\n",
    "        \n",
    "    def del_beg(self):\n",
    "        print()\n",
    "        a=self.head\n",
    "        self.head=a.next\n",
    "        a.next=None\n",
    "        \n",
    "    def del_end(self):\n",
    "        print()\n",
    "        a=self.head\n",
    "        while a.next is not None:\n",
    "            a=a.next\n",
    "        a.prev.next=None\n",
    "        \n",
    "    \n",
    "n1=Node(1)\n",
    "dll=Dll()\n",
    "\n",
    "dll.head=n1\n",
    "\n",
    "n2=Node(4)\n",
    "n1.next=n2\n",
    "n2.prev=n1\n",
    "\n",
    "n3=Node(5)\n",
    "n2.next=n3\n",
    "n3.prev=n2\n",
    "\n",
    "n4=Node(8)\n",
    "n3.next=n4\n",
    "n4.prev=n3\n",
    "  \n",
    "dll.travel()\n",
    "dll.re_travel()\n",
    "\n",
    "dll.insert_beg(10)\n",
    "dll.travel()\n",
    "\n",
    "dll.insert_end(11)\n",
    "dll.travel()\n",
    "\n",
    "dll.insert_pos(60,3)\n",
    "dll.travel()\n",
    "\n",
    "dll.del_beg()\n",
    "dll.travel()\n",
    "\n",
    "dll.del_end()\n",
    "dll.travel()\n",
    "\n",
    "\n"
   ]
  },
  {
   "cell_type": "markdown",
   "id": "07368c2d",
   "metadata": {},
   "source": [
    "### Practice"
   ]
  },
  {
   "cell_type": "code",
   "execution_count": 7,
   "id": "d682a67a",
   "metadata": {},
   "outputs": [
    {
     "name": "stdout",
     "output_type": "stream",
     "text": [
      "7 76 6 45 3 \n",
      "7 76 6 45 3 0 \n",
      "7 76 666 6 45 3 0 "
     ]
    }
   ],
   "source": [
    "class Node:\n",
    "    def __init__(self,data):\n",
    "        self.data=data\n",
    "        self.next=None\n",
    "        \n",
    "class linkedlist:\n",
    "    def __init__(self):\n",
    "        self.head=None\n",
    "        \n",
    "    def add_begning(self,data):\n",
    "        new = Node(data)\n",
    "        new.next=self.head\n",
    "        self.head=new\n",
    "    \n",
    "    def add_end(self,data):\n",
    "        new = Node(data)\n",
    "        a= self.head\n",
    "        \n",
    "        while a.next is not None:\n",
    "            a= a.next\n",
    "            \n",
    "        a.next=new\n",
    "    def add_pos(self,data,pos):\n",
    "        new=Node(data)\n",
    "        a= self.head\n",
    "        \n",
    "        for i in range(1,pos-1):\n",
    "            a=a.next\n",
    "            \n",
    "        new.next=a.next\n",
    "        a.next = new\n",
    "        \n",
    "    def travel(self):\n",
    "        a= self.head\n",
    "        while a is not None:\n",
    "            print(a.data,end=' ')\n",
    "            a=a.next\n",
    "        \n",
    "n1=Node(None)\n",
    "root=linkedlist()\n",
    "l1=[3,45,6,76,7]\n",
    "\n",
    "for i in l1:\n",
    "    root.add_begning(i)\n",
    "    \n",
    "root.travel()\n",
    "\n",
    "print()\n",
    "root.add_end(0)\n",
    "\n",
    "root.travel()\n",
    "\n",
    "print()\n",
    "root.add_pos(666,3)\n",
    "\n",
    "root.travel()"
   ]
  },
  {
   "cell_type": "code",
   "execution_count": null,
   "id": "7edf4aa9",
   "metadata": {},
   "outputs": [],
   "source": []
  }
 ],
 "metadata": {
  "kernelspec": {
   "display_name": "Python 3 (ipykernel)",
   "language": "python",
   "name": "python3"
  },
  "language_info": {
   "codemirror_mode": {
    "name": "ipython",
    "version": 3
   },
   "file_extension": ".py",
   "mimetype": "text/x-python",
   "name": "python",
   "nbconvert_exporter": "python",
   "pygments_lexer": "ipython3",
   "version": "3.9.12"
  }
 },
 "nbformat": 4,
 "nbformat_minor": 5
}
